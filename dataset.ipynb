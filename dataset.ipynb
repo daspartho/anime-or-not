{
  "nbformat": 4,
  "nbformat_minor": 0,
  "metadata": {
    "colab": {
      "provenance": []
    },
    "kernelspec": {
      "name": "python3",
      "display_name": "Python 3"
    },
    "language_info": {
      "name": "python"
    },
    "gpuClass": "standard"
  },
  "cells": [
    {
      "cell_type": "code",
      "source": [
        "!pip install cinemagoer"
      ],
      "metadata": {
        "id": "hBzpLilywKcs"
      },
      "execution_count": null,
      "outputs": []
    },
    {
      "cell_type": "code",
      "source": [
        "from imdb import Cinemagoer\n",
        "import csv"
      ],
      "metadata": {
        "id": "qEc982TBwNxO"
      },
      "execution_count": 2,
      "outputs": []
    },
    {
      "cell_type": "code",
      "source": [
        "ia = Cinemagoer()"
      ],
      "metadata": {
        "id": "gQ-QpDG4gTNR"
      },
      "execution_count": 3,
      "outputs": []
    },
    {
      "cell_type": "code",
      "source": [
        "anime_lists = ['ls089067795', 'ls092785929', 'ls041266139', 'ls029000191', 'ls068882649', 'ls032038577', 'ls033961299', 'ls076068386', 'ls032016453' , 'ls032018738'] # imdb lists of anime\n",
        "not_anime_lists = ['ls072163721', 'ls071285764', 'ls071285512', 'ls058813655', 'ls058982125', 'ls058938704', 'ls073809351', 'ls058021487', 'ls057563436', 'ls055712250'] # imdb lists of movie"
      ],
      "metadata": {
        "id": "VQlZVhiS_t28"
      },
      "execution_count": 4,
      "outputs": []
    },
    {
      "cell_type": "code",
      "source": [
        "def lists_to_ids(lists):\n",
        "    '''extracts unique ids from imdb lists'''\n",
        "    ids=[]\n",
        "    for lst in lists:\n",
        "        movie_list = ia.get_movie_list(lst) # get list of movies in a imdb list\n",
        "        for movie in movie_list:\n",
        "            id = movie.movieID # get movie id\n",
        "            if id not in ids: # checks if unique\n",
        "                ids.append(id)\n",
        "    return ids\n",
        "\n",
        "def ids_to_rows(ids, label):\n",
        "    '''convert ids to rows with plot and label for csv file'''\n",
        "    rows=[]\n",
        "    for id in ids:\n",
        "        movie = ia.get_movie(id, info=['plot']) # get movie from id\n",
        "        try:\n",
        "            plots = movie['plot'] # get plots\n",
        "            for plot in plots:\n",
        "                plot = plot.split('::')[0] # to remove author name from plot summary\n",
        "                plot = '\"'+plot+'\"' # wrapping inside double quotes to deal with commas in the plot text\n",
        "                rows.append([plot, label]) # row with plot and label\n",
        "        except: pass # some don't have plot details\n",
        "    return rows"
      ],
      "metadata": {
        "id": "eNNRkumTc5E_"
      },
      "execution_count": 5,
      "outputs": []
    },
    {
      "cell_type": "code",
      "source": [
        "with open('plots.csv', 'w') as f:\n",
        "    writer = csv.writer(f)\n",
        "    writer.writerow([\"plot\", \"label\"])\n",
        "\n",
        "    # write all anime plots to csv\n",
        "    anime_ids = lists_to_ids(anime_lists)\n",
        "    anime_rows = ids_to_rows(anime_ids, 1)\n",
        "    writer.writerows(anime_rows)\n",
        "    \n",
        "    # write all non anime plots to csv\n",
        "    not_anime_ids = lists_to_ids(not_anime_lists)\n",
        "    not_anime_rows = ids_to_rows(not_anime_ids, 0)\n",
        "    writer.writerows(not_anime_rows)\n",
        "\n",
        "print(\"All Done!\")"
      ],
      "metadata": {
        "id": "WSCAXdkHBblp"
      },
      "execution_count": null,
      "outputs": []
    }
  ]
}